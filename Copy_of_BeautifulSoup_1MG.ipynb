{
  "nbformat": 4,
  "nbformat_minor": 0,
  "metadata": {
    "colab": {
      "provenance": [],
      "include_colab_link": true
    },
    "kernelspec": {
      "name": "python3",
      "display_name": "Python 3"
    },
    "language_info": {
      "name": "python"
    }
  },
  "cells": [
    {
      "cell_type": "markdown",
      "metadata": {
        "id": "view-in-github",
        "colab_type": "text"
      },
      "source": [
        "<a href=\"https://colab.research.google.com/github/akarsh323/WEB-SCRAPPING-FOR-DATA/blob/main/Copy_of_BeautifulSoup_1MG.ipynb\" target=\"_parent\"><img src=\"https://colab.research.google.com/assets/colab-badge.svg\" alt=\"Open In Colab\"/></a>"
      ]
    },
    {
      "cell_type": "code",
      "source": [
        "from bs4 import BeautifulSoup\n",
        "from fake_useragent import UserAgent\n",
        "import requests\n",
        "import pandas as pd"
      ],
      "metadata": {
        "id": "bab_VzWxbkkh"
      },
      "execution_count": null,
      "outputs": []
    },
    {
      "cell_type": "code",
      "source": [
        "ua = UserAgent()\n",
        "chrome = {'ua.agent':ua.chrome}\n",
        "url = \"https://www.1mg.com/categories/medical-devices/health-monitors/thermometers-167\"\n",
        "response = requests.get(url,headers=chrome)\n",
        "soup = BeautifulSoup(response.text, 'lxml')"
      ],
      "metadata": {
        "id": "taXrfyuVNVE5"
      },
      "execution_count": null,
      "outputs": []
    },
    {
      "cell_type": "code",
      "source": [
        "n = soup.find_all('div', {'class':'style__product-description___2XaG0'})\n",
        "names = []\n",
        "for i in n:\n",
        "  names.append(i.text)"
      ],
      "metadata": {
        "id": "NVXpy8SaNVCn"
      },
      "execution_count": null,
      "outputs": []
    },
    {
      "cell_type": "code",
      "source": [
        "p = soup.find_all('div',{'class':'style__price-tag___cOxYc'})\n",
        "prices = []\n",
        "for i in p:\n",
        "  prices.append(i)"
      ],
      "metadata": {
        "id": "uxkL1wQCNVAo"
      },
      "execution_count": null,
      "outputs": []
    },
    {
      "cell_type": "code",
      "source": [
        "r = soup.find_all('div',{'class':'CardRatingDetail__ratings-container___2ZTSK'})\n",
        "ratings = []\n",
        "for i in r:\n",
        "  ratings.append(i.text)"
      ],
      "metadata": {
        "id": "wstKJF_UNU-x"
      },
      "execution_count": null,
      "outputs": []
    },
    {
      "cell_type": "code",
      "source": [
        "print(len(names))\n",
        "print(len(prices))\n",
        "print(len(ratings))"
      ],
      "metadata": {
        "colab": {
          "base_uri": "https://localhost:8080/"
        },
        "id": "lxQP7Ng2Yx_8",
        "outputId": "29e4f2b4-c971-4779-f359-d6bf79a6b651"
      },
      "execution_count": null,
      "outputs": [
        {
          "output_type": "stream",
          "name": "stdout",
          "text": [
            "43\n",
            "43\n",
            "29\n"
          ]
        }
      ]
    },
    {
      "cell_type": "markdown",
      "source": [
        "doing everything at one shot"
      ],
      "metadata": {
        "id": "xrytBOHYe1dt"
      }
    },
    {
      "cell_type": "code",
      "source": [
        "products = soup.find_all('div',{'class':'style__product-box___liepi'})\n",
        "names = []\n",
        "prices = []\n",
        "ratings = []\n",
        "try:\n",
        "  for product in products:\n",
        "    names.append(product.find_all('div', {'class':'style__product-description___2XaG0'})[0].text)\n",
        "    prices.append(product.find_all('div',{'class':'style__price-tag___cOxYc'})[0].text)\n",
        "    ratings.append(soup.find_all('div',{'class':'CardRatingDetail__ratings-container___2ZTSK'})[0].text)\n",
        "except:\n",
        "  ratings.append(0)"
      ],
      "metadata": {
        "id": "GLf9lZ-mY9Tl"
      },
      "execution_count": null,
      "outputs": []
    },
    {
      "cell_type": "code",
      "source": [
        "print(len(names))\n",
        "print(len(prices))\n",
        "print(len(ratings))\n",
        "dic = {'Product Names':names, 'Prices':prices,'Ratings':ratings}"
      ],
      "metadata": {
        "colab": {
          "base_uri": "https://localhost:8080/"
        },
        "id": "FC4y-THtanb-",
        "outputId": "abf8ab7a-927c-434f-9788-b1692deb1980"
      },
      "execution_count": null,
      "outputs": [
        {
          "output_type": "stream",
          "name": "stdout",
          "text": [
            "43\n",
            "43\n",
            "43\n"
          ]
        }
      ]
    },
    {
      "cell_type": "code",
      "source": [
        "df = pd.DataFrame(dic)\n",
        "df.to_csv('output.csv')"
      ],
      "metadata": {
        "id": "xXrvWRlfbfZr"
      },
      "execution_count": null,
      "outputs": []
    },
    {
      "cell_type": "markdown",
      "source": [
        "multipage"
      ],
      "metadata": {
        "id": "ib20yACQezVN"
      }
    },
    {
      "cell_type": "code",
      "source": [
        "def scraping(url):\n",
        "  ua = UserAgent()\n",
        "  chrome = {'ua.agent':ua.chrome}\n",
        "  url = \"https://www.1mg.com/categories/medical-devices/health-monitors/thermometers-167\"\n",
        "  response = requests.get(url,headers=chrome)\n",
        "  soup = BeautifulSoup(response.text, 'lxml')\n",
        "  products = soup.find_all('div',{'class':'style__product-box___liepi'})\n",
        "  names = []\n",
        "  prices = []\n",
        "  ratings = []\n",
        "  try:\n",
        "    for product in products:\n",
        "      names.append(product.find_all('div', {'class':'style__product-description___2XaG0'})[0].text)\n",
        "      prices.append(product.find_all('div',{'class':'style__price-tag___cOxYc'})[0].text)\n",
        "      ratings.append(soup.find_all('div',{'class':'CardRatingDetail__ratings-container___2ZTSK'})[0].text)\n",
        "  except:\n",
        "    ratings.append(0)\n",
        "  return names, prices, ratings"
      ],
      "metadata": {
        "id": "mA1TEfpAeURx"
      },
      "execution_count": null,
      "outputs": []
    },
    {
      "cell_type": "code",
      "source": [
        "urls = ['https://www.1mg.com/categories/medical-devices/health-monitors/thermometers-167?filter=true&pageNumber=%d' %i for i in range(1,6)]\n",
        "names, prices, ratings = [], [], []\n",
        "for url in urls:\n",
        "  names.extend(scraping(url)[0])\n",
        "  prices.extend(scraping(url)[1])\n",
        "  ratings.extend(scraping(url)[2])"
      ],
      "metadata": {
        "id": "pDD1yW0se-Ko"
      },
      "execution_count": null,
      "outputs": []
    },
    {
      "cell_type": "code",
      "source": [
        "print(len(names))\n",
        "print(len(prices))\n",
        "print(len(ratings))\n",
        "dic = {'Product Names':names, 'Prices':prices,'Ratings':ratings}"
      ],
      "metadata": {
        "colab": {
          "base_uri": "https://localhost:8080/"
        },
        "id": "vhXaXo0tfp03",
        "outputId": "2076f940-164d-4c03-b752-86294863aa68"
      },
      "execution_count": null,
      "outputs": [
        {
          "output_type": "stream",
          "name": "stdout",
          "text": [
            "0\n",
            "0\n",
            "0\n"
          ]
        }
      ]
    },
    {
      "cell_type": "code",
      "source": [
        "names"
      ],
      "metadata": {
        "colab": {
          "base_uri": "https://localhost:8080/"
        },
        "id": "OIh3z_fKf2q-",
        "outputId": "d4b06ab6-1dc9-48e3-8c6d-640c5a1bc203"
      },
      "execution_count": null,
      "outputs": [
        {
          "output_type": "execute_result",
          "data": {
            "text/plain": [
              "[]"
            ]
          },
          "metadata": {},
          "execution_count": 88
        }
      ]
    },
    {
      "cell_type": "code",
      "source": [],
      "metadata": {
        "id": "_LScOm2thVM2"
      },
      "execution_count": null,
      "outputs": []
    }
  ]
}